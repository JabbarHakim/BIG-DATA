{
  "nbformat": 4,
  "nbformat_minor": 0,
  "metadata": {
    "colab": {
      "provenance": [],
      "authorship_tag": "ABX9TyOT5sEGUy871YVyM4hR3VU9",
      "include_colab_link": true
    },
    "kernelspec": {
      "name": "python3",
      "display_name": "Python 3"
    },
    "language_info": {
      "name": "python"
    }
  },
  "cells": [
    {
      "cell_type": "markdown",
      "metadata": {
        "id": "view-in-github",
        "colab_type": "text"
      },
      "source": [
        "<a href=\"https://colab.research.google.com/github/JabbarHakim/BIG-DATA/blob/main/Big_Data_(Data_Processing_with_ApacheSpark).ipynb\" target=\"_parent\"><img src=\"https://colab.research.google.com/assets/colab-badge.svg\" alt=\"Open In Colab\"/></a>"
      ]
    },
    {
      "cell_type": "code",
      "execution_count": null,
      "metadata": {
        "colab": {
          "base_uri": "https://localhost:8080/"
        },
        "id": "pWI8wopsaRo_",
        "outputId": "f86d0432-f315-45fb-9d38-511a4cd290f5"
      },
      "outputs": [
        {
          "output_type": "stream",
          "name": "stdout",
          "text": [
            "+------------+----------+------+\n",
            "|EmployeeName|Department|Salary|\n",
            "+------------+----------+------+\n",
            "|        Mike|     Sales|  3000|\n",
            "|         Ray|   Finance|  3000|\n",
            "|        Liam|     Sales|  4100|\n",
            "|    Reinhart|     Sales|  4600|\n",
            "+------------+----------+------+\n",
            "\n"
          ]
        }
      ],
      "source": [
        "# Example creating Simple and Basic Operation DataFrame\n",
        "\n",
        "from pyspark.sql import SparkSession\n",
        "spark = SparkSession.builder.appName(\"HandsOnMeeting3\").getOrCreate()\n",
        "\n",
        "data = [(\"Mike\", \"Sales\", 3000),\n",
        "        (\"Ray\", \"Finance\", 3000),\n",
        "        (\"Liam\", \"Sales\", 4100),\n",
        "        (\"Reinhart\", \"Sales\", 4600)]\n",
        "\n",
        "columns = [\"EmployeeName\", \"Department\", \"Salary\"]\n",
        "\n",
        "df = spark.createDataFrame(data, schema=columns)\n",
        "df.show()"
      ]
    },
    {
      "cell_type": "code",
      "source": [
        "# Example Transformation Operation DataFrame\n",
        "\n",
        "df.select(\"EmployeeName\", \"Salary\").show()\n",
        "df.filter(df[\"Salary\"] > 3000).show\n",
        "df.groupBy(\"Department\").mean(\"Salary\").show()\n",
        "df.groupBy(\"Department\").max(\"Salary\").show()\n",
        "df.groupBy(\"Department\").sum(\"Salary\").show()"
      ],
      "metadata": {
        "colab": {
          "base_uri": "https://localhost:8080/"
        },
        "id": "4fC_vMtTb9JR",
        "outputId": "37e7485e-69d6-4fe1-df0f-76defec1c8ae"
      },
      "execution_count": null,
      "outputs": [
        {
          "output_type": "stream",
          "name": "stdout",
          "text": [
            "+------------+------+\n",
            "|EmployeeName|Salary|\n",
            "+------------+------+\n",
            "|        Mike|  3000|\n",
            "|         Ray|  3000|\n",
            "|        Liam|  4100|\n",
            "|    Reinhart|  4600|\n",
            "+------------+------+\n",
            "\n",
            "+----------+-----------+\n",
            "|Department|avg(Salary)|\n",
            "+----------+-----------+\n",
            "|     Sales|     3900.0|\n",
            "|   Finance|     3000.0|\n",
            "+----------+-----------+\n",
            "\n",
            "+----------+-----------+\n",
            "|Department|max(Salary)|\n",
            "+----------+-----------+\n",
            "|     Sales|       4600|\n",
            "|   Finance|       3000|\n",
            "+----------+-----------+\n",
            "\n",
            "+----------+-----------+\n",
            "|Department|sum(Salary)|\n",
            "+----------+-----------+\n",
            "|     Sales|      11700|\n",
            "|   Finance|       3000|\n",
            "+----------+-----------+\n",
            "\n"
          ]
        }
      ]
    },
    {
      "cell_type": "code",
      "source": [
        "# Example manipulate complex data type\n",
        "df = df.withColumn(\"SalaryBonus\", df[\"Salary\"] * 0.1)\n",
        "\n",
        "df = df.withColumn(\"TotalCompensation\", df[\"Salary\"] + df[\"SalaryBonus\"])\n",
        "\n",
        "df.show()"
      ],
      "metadata": {
        "colab": {
          "base_uri": "https://localhost:8080/"
        },
        "id": "D5nz6jItcb5T",
        "outputId": "f0130a00-cba3-4b61-ba92-c4ed9073c423"
      },
      "execution_count": null,
      "outputs": [
        {
          "output_type": "stream",
          "name": "stdout",
          "text": [
            "+------------+----------+------+-----------+-----------------+\n",
            "|EmployeeName|Department|Salary|SalaryBonus|TotalCompensation|\n",
            "+------------+----------+------+-----------+-----------------+\n",
            "|        Mike|     Sales|  3000|      300.0|           3300.0|\n",
            "|         Ray|   Finance|  3000|      300.0|           3300.0|\n",
            "|        Liam|     Sales|  4100|      410.0|           4510.0|\n",
            "|    Reinhart|     Sales|  4600|      460.0|           5060.0|\n",
            "+------------+----------+------+-----------+-----------------+\n",
            "\n"
          ]
        }
      ]
    },
    {
      "cell_type": "code",
      "source": [
        "# Example using Window Functions\n",
        "\n",
        "from pyspark.sql import Window\n",
        "from pyspark.sql import functions as F\n",
        "\n",
        "WindowSpec = Window.partitionBy(\"Department\").orderBy(\"Salary\")\n",
        "df.withColumn(\"Rank\", F.rank().over(WindowSpec)).show\n"
      ],
      "metadata": {
        "colab": {
          "base_uri": "https://localhost:8080/",
          "height": 187
        },
        "id": "oua2eGKadUVR",
        "outputId": "3c2fb06c-565a-4511-d38f-ee1d49cce8c0"
      },
      "execution_count": null,
      "outputs": [
        {
          "output_type": "execute_result",
          "data": {
            "text/plain": [
              "<bound method DataFrame.show of DataFrame[EmployeeName: string, Department: string, Salary: bigint, SalaryBonus: double, TotalCompensation: double, Rank: int]>"
            ],
            "text/html": [
              "<div style=\"max-width:800px; border: 1px solid var(--colab-border-color);\"><style>\n",
              "      pre.function-repr-contents {\n",
              "        overflow-x: auto;\n",
              "        padding: 8px 12px;\n",
              "        max-height: 500px;\n",
              "      }\n",
              "\n",
              "      pre.function-repr-contents.function-repr-contents-collapsed {\n",
              "        cursor: pointer;\n",
              "        max-height: 100px;\n",
              "      }\n",
              "    </style>\n",
              "    <pre style=\"white-space: initial; background:\n",
              "         var(--colab-secondary-surface-color); padding: 8px 12px;\n",
              "         border-bottom: 1px solid var(--colab-border-color);\"><b>pyspark.sql.dataframe.DataFrame.show</b><br/>def show(n: int=20, truncate: Union[bool, int]=True, vertical: bool=False) -&gt; None</pre><pre class=\"function-repr-contents function-repr-contents-collapsed\" style=\"\"><a class=\"filepath\" style=\"display:none\" href=\"#\">/usr/local/lib/python3.12/dist-packages/pyspark/sql/dataframe.py</a>Prints the first ``n`` rows to the console.\n",
              "\n",
              ".. versionadded:: 1.3.0\n",
              "\n",
              ".. versionchanged:: 3.4.0\n",
              "    Supports Spark Connect.\n",
              "\n",
              "Parameters\n",
              "----------\n",
              "n : int, optional\n",
              "    Number of rows to show.\n",
              "truncate : bool or int, optional\n",
              "    If set to ``True``, truncate strings longer than 20 chars by default.\n",
              "    If set to a number greater than one, truncates long strings to length ``truncate``\n",
              "    and align cells right.\n",
              "vertical : bool, optional\n",
              "    If set to ``True``, print output rows vertically (one line\n",
              "    per column value).\n",
              "\n",
              "Examples\n",
              "--------\n",
              "&gt;&gt;&gt; df = spark.createDataFrame([\n",
              "...     (14, &quot;Tom&quot;), (23, &quot;Alice&quot;), (16, &quot;Bob&quot;)], [&quot;age&quot;, &quot;name&quot;])\n",
              "\n",
              "Show only top 2 rows.\n",
              "\n",
              "&gt;&gt;&gt; df.show(2)\n",
              "+---+-----+\n",
              "|age| name|\n",
              "+---+-----+\n",
              "| 14|  Tom|\n",
              "| 23|Alice|\n",
              "+---+-----+\n",
              "only showing top 2 rows\n",
              "\n",
              "Show :class:`DataFrame` where the maximum number of characters is 3.\n",
              "\n",
              "&gt;&gt;&gt; df.show(truncate=3)\n",
              "+---+----+\n",
              "|age|name|\n",
              "+---+----+\n",
              "| 14| Tom|\n",
              "| 23| Ali|\n",
              "| 16| Bob|\n",
              "+---+----+\n",
              "\n",
              "Show :class:`DataFrame` vertically.\n",
              "\n",
              "&gt;&gt;&gt; df.show(vertical=True)\n",
              "-RECORD 0-----\n",
              "age  | 14\n",
              "name | Tom\n",
              "-RECORD 1-----\n",
              "age  | 23\n",
              "name | Alice\n",
              "-RECORD 2-----\n",
              "age  | 16\n",
              "name | Bob</pre>\n",
              "      <script>\n",
              "      if (google.colab.kernel.accessAllowed && google.colab.files && google.colab.files.view) {\n",
              "        for (const element of document.querySelectorAll('.filepath')) {\n",
              "          element.style.display = 'block'\n",
              "          element.onclick = (event) => {\n",
              "            event.preventDefault();\n",
              "            event.stopPropagation();\n",
              "            google.colab.files.view(element.textContent, 885);\n",
              "          };\n",
              "        }\n",
              "      }\n",
              "      for (const element of document.querySelectorAll('.function-repr-contents')) {\n",
              "        element.onclick = (event) => {\n",
              "          event.preventDefault();\n",
              "          event.stopPropagation();\n",
              "          element.classList.toggle('function-repr-contents-collapsed');\n",
              "        };\n",
              "      }\n",
              "      </script>\n",
              "      </div>"
            ]
          },
          "metadata": {},
          "execution_count": 27
        }
      ]
    },
    {
      "cell_type": "code",
      "source": [],
      "metadata": {
        "id": "WrOe5HVKgL-F"
      },
      "execution_count": null,
      "outputs": []
    },
    {
      "cell_type": "code",
      "source": [
        "from pyspark.sql import SparkSession\n",
        "\n",
        "spark = SparkSession.builder.appName(\"IMDBProcessedDataset\").getOrCreate()\n",
        "\n",
        "csv_file_path = \"/IMDB_processed_data.csv\"\n",
        "\n",
        "df = spark.read.csv(csv_file_path, header=True)\n",
        "\n",
        "release_df = df.filter(df.Release == 2023)\n",
        "\n",
        "print(\"Showing 20 Movies\")\n",
        "df.show(20)\n",
        "\n",
        "print(\"\\nShowing Movies Released in 2023\")\n",
        "release_df.show(df.count())\n"
      ],
      "metadata": {
        "colab": {
          "base_uri": "https://localhost:8080/"
        },
        "id": "6SAyPUILe89e",
        "outputId": "f6e75464-9bd2-4370-fb2f-0adce4927fd9"
      },
      "execution_count": 33,
      "outputs": [
        {
          "output_type": "stream",
          "name": "stdout",
          "text": [
            "Showing 20 Movies\n",
            "+----+--------------------+-------+-------+--------+-------+\n",
            "|Rank|               Title|Release|Runtime|   Rated|Ratings|\n",
            "+----+--------------------+-------+-------+--------+-------+\n",
            "|   1|The Shawshank Red...|   1994| 2h 22m|       R|    9.3|\n",
            "|   2|       The Godfather|   1972| 2h 55m|       R|    9.2|\n",
            "|   3|     The Dark Knight|   2008| 2h 32m|   PG-13|      9|\n",
            "|   4|The Godfather Par...|   1974| 3h 22m|       R|      9|\n",
            "|   5|        12 Angry Men|   1957| 1h 36m|Approved|      9|\n",
            "|   6|The Lord of the R...|   2003| 3h 21m|   PG-13|      9|\n",
            "|   7|    Schindler's List|   1993| 3h 15m|       R|      9|\n",
            "|   8|        Pulp Fiction|   1994| 2h 34m|       R|    8.9|\n",
            "|   9|The Lord of the R...|   2001| 2h 58m|   PG-13|    8.9|\n",
            "|  10|The Good, the Bad...|   1966| 2h 58m|       R|    8.8|\n",
            "|  11|        Forrest Gump|   1994| 2h 22m|   PG-13|    8.8|\n",
            "|  12|The Lord of the R...|   2002| 2h 59m|   PG-13|    8.8|\n",
            "|  13|          Fight Club|   1999| 2h 19m|       R|    8.8|\n",
            "|  14|           Inception|   2010| 2h 28m|   PG-13|    8.8|\n",
            "|  15|Star Wars: Episod...|   1980|  2h 4m|      PG|    8.7|\n",
            "|  16|          The Matrix|   1999| 2h 16m|       R|    8.7|\n",
            "|  17|          Goodfellas|   1990| 2h 25m|       R|    8.7|\n",
            "|  18|One Flew Over the...|   1975| 2h 13m|       R|    8.7|\n",
            "|  19|        Interstellar|   2014| 2h 49m|   PG-13|    8.7|\n",
            "|  20|               Se7en|   1995|  2h 7m|       R|    8.6|\n",
            "+----+--------------------+-------+-------+--------+-------+\n",
            "only showing top 20 rows\n",
            "\n",
            "\n",
            "Showing Movies Released in 2023\n",
            "+----+--------------------+-------+-------+---------+-------+\n",
            "|Rank|               Title|Release|Runtime|    Rated|Ratings|\n",
            "+----+--------------------+-------+-------+---------+-------+\n",
            "|  44|Spider-Man: Acros...|   2023| 2h 20m|       PG|    8.5|\n",
            "|  66|           12th Fail|   2023| 2h 27m|Not Rated|    8.8|\n",
            "| 112|         Oppenheimer|   2023|     3h|        R|    8.3|\n",
            "+----+--------------------+-------+-------+---------+-------+\n",
            "\n"
          ]
        }
      ]
    },
    {
      "cell_type": "code",
      "source": [],
      "metadata": {
        "id": "GEyFUF7Aez8Q"
      },
      "execution_count": null,
      "outputs": []
    }
  ]
}